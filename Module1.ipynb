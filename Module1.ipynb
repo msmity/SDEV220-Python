{
 "cells": [
  {
   "cell_type": "markdown",
   "id": "1e3d7757-363b-4579-8452-1d468b3edf85",
   "metadata": {},
   "source": [
    "3.1 How many seconds are in an hour? Use the interactive interpreter as a calculator and multiply the number of seconds in a minute (60) by the number of minutes in an hour (also 60)."
   ]
  },
  {
   "cell_type": "code",
   "execution_count": 2,
   "id": "05f49339-c997-4db8-b132-78ef1a23bb90",
   "metadata": {},
   "outputs": [
    {
     "data": {
      "text/plain": [
       "3600"
      ]
     },
     "execution_count": 2,
     "metadata": {},
     "output_type": "execute_result"
    }
   ],
   "source": [
    "60*60"
   ]
  },
  {
   "cell_type": "markdown",
   "id": "75cb9f0c-ff0b-44d7-b819-006332554158",
   "metadata": {},
   "source": [
    "3.2 Assign the result from the previous task (seconds in an hour) to a variable called seconds_per_hour."
   ]
  },
  {
   "cell_type": "code",
   "execution_count": 3,
   "id": "50e17aa2-52e0-4ffb-9d34-82080310fafa",
   "metadata": {},
   "outputs": [],
   "source": [
    "seconds_per_hour = 3600"
   ]
  },
  {
   "cell_type": "markdown",
   "id": "880af5c9-9012-41e6-88b1-757796432e5a",
   "metadata": {},
   "source": [
    "3.3 How many seconds are in a day? Use your seconds_per_hour variable."
   ]
  },
  {
   "cell_type": "code",
   "execution_count": 4,
   "id": "96f5fae3-445f-45b7-861d-a6c27a8697ba",
   "metadata": {},
   "outputs": [
    {
     "data": {
      "text/plain": [
       "86400"
      ]
     },
     "execution_count": 4,
     "metadata": {},
     "output_type": "execute_result"
    }
   ],
   "source": [
    "seconds_per_hour * 24"
   ]
  },
  {
   "cell_type": "markdown",
   "id": "4dd5ec1f-e668-40d6-951c-9abdebf7d3b2",
   "metadata": {},
   "source": [
    "3.4 Calculate seconds per day again, but this time save the result in a variable called seconds_per_day."
   ]
  },
  {
   "cell_type": "code",
   "execution_count": 5,
   "id": "faa492c7-bd49-45bf-8e4e-e4dbc097eb3c",
   "metadata": {},
   "outputs": [],
   "source": [
    "seconds_per_day = seconds_per_hour * 24"
   ]
  },
  {
   "cell_type": "markdown",
   "id": "2267eeef-148d-4fe4-8a0a-40ae2bb1bc80",
   "metadata": {},
   "source": [
    "3.5 Divide seconds_per_day by seconds_per_hour. Use floating-point (/) division."
   ]
  },
  {
   "cell_type": "code",
   "execution_count": 6,
   "id": "6a2167ff-1f3a-47bf-99df-9f262c73dab7",
   "metadata": {},
   "outputs": [
    {
     "data": {
      "text/plain": [
       "24.0"
      ]
     },
     "execution_count": 6,
     "metadata": {},
     "output_type": "execute_result"
    }
   ],
   "source": [
    "seconds_per_day / seconds_per_hour"
   ]
  },
  {
   "cell_type": "markdown",
   "id": "8632354a-c4fb-4210-b196-58fec13307ad",
   "metadata": {},
   "source": [
    "3.6 Divide seconds_per_day by seconds_per_hour, using integer (//) division. Did this number agree with the floating-point value from the previous question, aside from the final .0?"
   ]
  },
  {
   "cell_type": "code",
   "execution_count": 7,
   "id": "925429f4-c49b-46c0-af26-a7b5e192f4af",
   "metadata": {},
   "outputs": [
    {
     "data": {
      "text/plain": [
       "24"
      ]
     },
     "execution_count": 7,
     "metadata": {},
     "output_type": "execute_result"
    }
   ],
   "source": [
    "seconds_per_day // seconds_per_hour"
   ]
  },
  {
   "cell_type": "markdown",
   "id": "67188a94-ab70-455f-a766-6de1037138d8",
   "metadata": {},
   "source": [
    "Yes, aside from the extra decimal point, the integer form matches the floating-point value"
   ]
  }
 ],
 "metadata": {
  "kernelspec": {
   "display_name": "Python [conda env:base] *",
   "language": "python",
   "name": "conda-base-py"
  },
  "language_info": {
   "codemirror_mode": {
    "name": "ipython",
    "version": 3
   },
   "file_extension": ".py",
   "mimetype": "text/x-python",
   "name": "python",
   "nbconvert_exporter": "python",
   "pygments_lexer": "ipython3",
   "version": "3.12.7"
  }
 },
 "nbformat": 4,
 "nbformat_minor": 5
}
