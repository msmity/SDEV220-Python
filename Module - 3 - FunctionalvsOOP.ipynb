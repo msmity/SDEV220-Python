{
 "cells": [
  {
   "cell_type": "markdown",
   "id": "bbbb578d-7539-4550-b576-b949772c1454",
   "metadata": {},
   "source": [
    "Sort an Array of 0's, 1's and 2's"
   ]
  },
  {
   "cell_type": "code",
   "execution_count": 1,
   "id": "e68d5a73-10ed-4cb6-b5df-080cc87a3e96",
   "metadata": {},
   "outputs": [
    {
     "name": "stdout",
     "output_type": "stream",
     "text": [
      "0 0 1 1 2 2 "
     ]
    }
   ],
   "source": [
    "class Solution:\n",
    "    # Function to sort an array of 0s, 1s, and 2s\n",
    "    def sort012(self, arr):\n",
    "        # code here\n",
    "        c0 = 0\n",
    "        c1 = 0\n",
    "        c2 = 0\n",
    "        \n",
    "        for number in arr:\n",
    "            if number == 0:\n",
    "                c0 += 1\n",
    "            elif number == 1:\n",
    "                c1 += 1\n",
    "            else:\n",
    "                c2 += 1\n",
    "                \n",
    "        index = 0\n",
    "        \n",
    "        for i in range(c0):\n",
    "            arr[index] = 0\n",
    "            index += 1\n",
    "            \n",
    "        for i in range(c1):\n",
    "            arr[index] = 1\n",
    "            index += 1\n",
    "            \n",
    "        for i in range(c2):\n",
    "            arr[index] = 2\n",
    "            index += 1\n",
    "        \n",
    "    \n",
    "sol = Solution()\n",
    "arr = [0, 1, 2, 0, 1, 2]\n",
    "sol.sort012(arr)\n",
    "\n",
    "for x in arr:\n",
    "    print(x, end = \" \")"
   ]
  },
  {
   "cell_type": "markdown",
   "id": "e20da9df-2073-413d-9b11-21f592fcd48b",
   "metadata": {},
   "source": [
    "Binary Search"
   ]
  },
  {
   "cell_type": "code",
   "execution_count": 2,
   "id": "af820404-5be8-4254-9afe-0b1c85ec0179",
   "metadata": {},
   "outputs": [
    {
     "name": "stdout",
     "output_type": "stream",
     "text": [
      "3\n",
      "-1\n",
      "0\n"
     ]
    }
   ],
   "source": [
    "class Solution:\n",
    "    def binarysearch(self, arr, k):\n",
    "        # Code Here\n",
    "        left, right = 0, len(arr) - 1\n",
    "        result = -1\n",
    "\n",
    "        while left <= right:\n",
    "            mid = left + (right - left) // 2\n",
    "\n",
    "            if arr[mid] == k:\n",
    "                result = mid\n",
    "                right = mid - 1  # Search in the left half for the first occurrence\n",
    "            elif arr[mid] < k:\n",
    "                left = mid + 1\n",
    "            else:\n",
    "                right = mid - 1\n",
    "\n",
    "        return result\n",
    "        \n",
    "sol = Solution()\n",
    "\n",
    "arr1 = [1, 2, 3, 4, 5]\n",
    "arr2 = [11, 22, 33, 44, 55]\n",
    "arr3 = [1, 1, 1, 1, 2]\n",
    "\n",
    "print(sol.binarysearch(arr1, 4))\n",
    "print(sol.binarysearch(arr2, 445))\n",
    "print(sol.binarysearch(arr3, 1))"
   ]
  },
  {
   "cell_type": "code",
   "execution_count": null,
   "id": "0847dad0-e0df-4436-87fb-70d66b78d4b2",
   "metadata": {},
   "outputs": [],
   "source": []
  }
 ],
 "metadata": {
  "kernelspec": {
   "display_name": "Python [conda env:base] *",
   "language": "python",
   "name": "conda-base-py"
  },
  "language_info": {
   "codemirror_mode": {
    "name": "ipython",
    "version": 3
   },
   "file_extension": ".py",
   "mimetype": "text/x-python",
   "name": "python",
   "nbconvert_exporter": "python",
   "pygments_lexer": "ipython3",
   "version": "3.12.7"
  }
 },
 "nbformat": 4,
 "nbformat_minor": 5
}
