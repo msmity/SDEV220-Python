{
 "cells": [
  {
   "cell_type": "markdown",
   "id": "8c795fad-0533-4058-80c2-a2da04b17429",
   "metadata": {
    "panel-layout": {
     "height": 51.140625,
     "visible": true,
     "width": 100
    }
   },
   "source": [
    "13.1"
   ]
  },
  {
   "cell_type": "code",
   "execution_count": 1,
   "id": "7c07ed1a-1469-4f7e-b9ac-d002d0941217",
   "metadata": {},
   "outputs": [],
   "source": [
    "with open(\"today.txt\", \"w\") as f:\n",
    "    f.write(\"July 15 2025\")"
   ]
  },
  {
   "cell_type": "markdown",
   "id": "e686ee66-27f6-4e28-8057-89b9765e54c0",
   "metadata": {
    "panel-layout": {
     "height": 51.140625,
     "visible": true,
     "width": 100
    }
   },
   "source": [
    "13.2"
   ]
  },
  {
   "cell_type": "code",
   "execution_count": 2,
   "id": "b9718848-fca9-45f2-b417-aeb87408cde4",
   "metadata": {},
   "outputs": [],
   "source": [
    "with open(\"today.txt\", \"r\") as f:\n",
    "    today_string = f.readline().strip()"
   ]
  },
  {
   "cell_type": "markdown",
   "id": "a7a0b2c5-6dc2-4cb9-9d20-2c863484f6d3",
   "metadata": {
    "panel-layout": {
     "height": 51.140625,
     "visible": true,
     "width": 100
    }
   },
   "source": [
    "13.3"
   ]
  },
  {
   "cell_type": "code",
   "execution_count": 5,
   "id": "64c1ef3a-863a-40ac-a206-466303975413",
   "metadata": {
    "panel-layout": {
     "height": 0,
     "visible": true,
     "width": 100
    }
   },
   "outputs": [
    {
     "name": "stdout",
     "output_type": "stream",
     "text": [
      "2025-07-15 00:00:00\n"
     ]
    }
   ],
   "source": [
    "from datetime import datetime\n",
    "parsed_date = datetime.strptime(today_string, '%B %d %Y')\n",
    "print(parsed_date)"
   ]
  },
  {
   "cell_type": "markdown",
   "id": "3225062a-a533-4619-8e11-c6446d4a7642",
   "metadata": {
    "panel-layout": {
     "height": 51.140625,
     "visible": true,
     "width": 100
    }
   },
   "source": [
    "15.1"
   ]
  },
  {
   "cell_type": "code",
   "execution_count": 2,
   "id": "5b16aaf3-dacf-43a4-af0e-6852520b120a",
   "metadata": {},
   "outputs": [],
   "source": [
    "import multiprocessing\n",
    "import time\n",
    "import random\n",
    "from datetime import datetime\n",
    "\n",
    "def worker(process_id):\n",
    "    wait_time = random.uniform(0, 1)\n",
    "    time.sleep(wait_time)\n",
    "    print(f\"Process {process_id} finished at {datetime.now().strftime('%H:%M:%S.%f')} after waiting {wait_time:.3f} seconds.\")\n",
    "\n",
    "if __name__ == '__main__':\n",
    "    processes = []\n",
    "    for i in range(3):\n",
    "        p = multiprocessing.Process(target=worker, args=(i+1,))\n",
    "        processes.append(p)\n",
    "        p.start()\n",
    "\n",
    "    for p in processes:\n",
    "        p.join()"
   ]
  },
  {
   "cell_type": "markdown",
   "id": "9bf6c961-c840-4eee-9ffa-6f18e057a7cd",
   "metadata": {},
   "source": [
    "*Could not get Jupyter Notebook to display results, so included are results from VS Code\n",
    "rocess 3 finished at 17:24:53.453917 after waiting 0.042 seconds.\n",
    "Process 2 finished at 17:24:53.670899 after waiting 0.271 seconds.\n",
    "Process 1 finished at 17:24:53.756393 after waiting 0.363 seconds.\n"
   ]
  }
 ],
 "metadata": {
  "kernelspec": {
   "display_name": "Python [conda env:base] *",
   "language": "python",
   "name": "conda-base-py"
  },
  "language_info": {
   "codemirror_mode": {
    "name": "ipython",
    "version": 3
   },
   "file_extension": ".py",
   "mimetype": "text/x-python",
   "name": "python",
   "nbconvert_exporter": "python",
   "pygments_lexer": "ipython3",
   "version": "3.12.7"
  },
  "panel-cell-order": [
   "8c795fad-0533-4058-80c2-a2da04b17429",
   "e686ee66-27f6-4e28-8057-89b9765e54c0",
   "a7a0b2c5-6dc2-4cb9-9d20-2c863484f6d3",
   "64c1ef3a-863a-40ac-a206-466303975413",
   "3225062a-a533-4619-8e11-c6446d4a7642"
  ]
 },
 "nbformat": 4,
 "nbformat_minor": 5
}
