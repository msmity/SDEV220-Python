{
 "cells": [
  {
   "cell_type": "markdown",
   "id": "ac158812-df39-40a2-ad53-acaccb2b5c46",
   "metadata": {},
   "source": [
    "7.4"
   ]
  },
  {
   "cell_type": "code",
   "execution_count": 1,
   "id": "65761b28-c9ba-4a69-93af-9cf1da2988af",
   "metadata": {},
   "outputs": [],
   "source": [
    "things = [\"mozzarella\", \"cinderella\", \"salmonella\"]"
   ]
  },
  {
   "cell_type": "markdown",
   "id": "650ffe4c-8311-4353-9b03-a047ab48640b",
   "metadata": {},
   "source": [
    "7.5"
   ]
  },
  {
   "cell_type": "code",
   "execution_count": 4,
   "id": "455fd2d5-db9c-492c-8529-b95b3a6d7b46",
   "metadata": {},
   "outputs": [
    {
     "name": "stdout",
     "output_type": "stream",
     "text": [
      "['mozzarella', 'Cinderella', 'salmonella']\n"
     ]
    }
   ],
   "source": [
    "things[1] = things[1].capitalize()\n",
    "print(things)"
   ]
  },
  {
   "cell_type": "markdown",
   "id": "179aa1d7-5a99-4619-815b-e0230160963e",
   "metadata": {},
   "source": [
    "Yes, the element was changed to so 'Cinderella' is capitalized"
   ]
  },
  {
   "cell_type": "markdown",
   "id": "63ba6b41-9766-413c-b399-d037140968be",
   "metadata": {},
   "source": [
    "7.6"
   ]
  },
  {
   "cell_type": "code",
   "execution_count": 5,
   "id": "1268e0e1-096e-4060-a81e-83aefba5631d",
   "metadata": {},
   "outputs": [
    {
     "name": "stdout",
     "output_type": "stream",
     "text": [
      "['MOZZARELLA', 'Cinderella', 'salmonella']\n"
     ]
    }
   ],
   "source": [
    "things[0] = things[0].upper()\n",
    "print(things)"
   ]
  },
  {
   "cell_type": "markdown",
   "id": "c9697f34-1a16-4c72-808a-ee524789b1a5",
   "metadata": {},
   "source": [
    "7.7"
   ]
  },
  {
   "cell_type": "code",
   "execution_count": 6,
   "id": "a2b92b38-514a-4fb9-af16-3ae7bd8c79e4",
   "metadata": {},
   "outputs": [
    {
     "name": "stdout",
     "output_type": "stream",
     "text": [
      "['MOZZARELLA', 'Cinderella']\n"
     ]
    }
   ],
   "source": [
    "del things[-1]\n",
    "print(things)"
   ]
  },
  {
   "cell_type": "markdown",
   "id": "1cf2390f-b56c-4c2d-b334-a94e39e5dfd6",
   "metadata": {},
   "source": [
    "9.1"
   ]
  },
  {
   "cell_type": "code",
   "execution_count": 10,
   "id": "cf03a681-64e9-467f-b282-8f75b505c0c8",
   "metadata": {},
   "outputs": [
    {
     "name": "stdout",
     "output_type": "stream",
     "text": [
      "['Harry', 'Ron', 'Hermione']\n"
     ]
    }
   ],
   "source": [
    "def good():\n",
    "    return ['Harry', 'Ron', 'Hermione']\n",
    "print(good())"
   ]
  },
  {
   "cell_type": "markdown",
   "id": "cd8e3b4c-4f2f-43ee-8388-1ef943bc31c5",
   "metadata": {},
   "source": [
    "9.2"
   ]
  },
  {
   "cell_type": "code",
   "execution_count": 12,
   "id": "7ea1b7b6-7edc-4886-8cfe-9c8b0f209490",
   "metadata": {},
   "outputs": [
    {
     "name": "stdout",
     "output_type": "stream",
     "text": [
      "The third odd number is 5\n"
     ]
    }
   ],
   "source": [
    "def get_odds():\n",
    "    for number in range(10):\n",
    "        if number % 2 ==1:\n",
    "            yield number\n",
    "counter = 0\n",
    "for odd_number in get_odds():\n",
    "    counter += 1\n",
    "    if counter == 3:\n",
    "        print(\"The third odd number is \" + str(odd_number))\n",
    "        break"
   ]
  },
  {
   "cell_type": "code",
   "execution_count": null,
   "id": "d07605a0-2c88-4fee-ab34-2d5833e38169",
   "metadata": {},
   "outputs": [],
   "source": []
  }
 ],
 "metadata": {
  "kernelspec": {
   "display_name": "Python [conda env:base] *",
   "language": "python",
   "name": "conda-base-py"
  },
  "language_info": {
   "codemirror_mode": {
    "name": "ipython",
    "version": 3
   },
   "file_extension": ".py",
   "mimetype": "text/x-python",
   "name": "python",
   "nbconvert_exporter": "python",
   "pygments_lexer": "ipython3",
   "version": "3.12.7"
  }
 },
 "nbformat": 4,
 "nbformat_minor": 5
}
