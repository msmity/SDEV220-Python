{
 "cells": [
  {
   "cell_type": "code",
   "execution_count": 5,
   "id": "22f25c4f-9801-45c5-a1d3-beca5d74f01e",
   "metadata": {},
   "outputs": [],
   "source": [
    "import unittest\n",
    "\n",
    "from my_sum import sum\n",
    "from fractions import Fraction\n",
    "\n",
    "class TestSum(unittest.TestCase):\n",
    "    def test_list_int(self):\n",
    "        '''\n",
    "        Test that it can sum a list of integers\n",
    "        '''\n",
    "\n",
    "        data = [1, 2, 3]\n",
    "        result = sum(data)\n",
    "        self.assertEqual(result, 6)\n",
    "\n",
    "    def test_list_fraction(self):\n",
    "        \"\"\"\n",
    "        Test that it can sum a list of fractions\n",
    "        \"\"\"\n",
    "        data = [Fraction(1, 4), Fraction(1, 4), Fraction(2, 5)]\n",
    "        result = sum(data)\n",
    "        self.assertEqual(result, 1)\n",
    "\n",
    "if __name__ == \"__main_\":\n",
    "    unittest.main()"
   ]
  },
  {
   "cell_type": "markdown",
   "id": "b244ec8e-eaf5-4055-82f2-22e132a8a451",
   "metadata": {},
   "source": [
    "Traceback (most recent call last):\n",
    "  File \"C:\\Users\\smity\\SDEV220\\PyTesting\\test.py\", line 22, in test_list_fraction\n",
    "    self.assertEqual(result, 1)\n",
    "AssertionError: Fraction(9, 10) != 1\n",
    "\n",
    "----------------------------------------------------------------------\n",
    "Ran 2 tests in 0.000s\n",
    "\n",
    "FAILED (failures=1)\n",
    "PS C:\\Users\\smity\\SDEV220\\PyTesting> "
   ]
  },
  {
   "cell_type": "markdown",
   "id": "8e2b3199-c392-4aa8-9685-e15c151992ab",
   "metadata": {},
   "source": [
    "The test states of the 2 tests that were ran, the test_list_fraction failed, as the sum of the given fractions\n",
    "did not equal '1'"
   ]
  }
 ],
 "metadata": {
  "kernelspec": {
   "display_name": "Python [conda env:base] *",
   "language": "python",
   "name": "conda-base-py"
  },
  "language_info": {
   "codemirror_mode": {
    "name": "ipython",
    "version": 3
   },
   "file_extension": ".py",
   "mimetype": "text/x-python",
   "name": "python",
   "nbconvert_exporter": "python",
   "pygments_lexer": "ipython3",
   "version": "3.12.7"
  }
 },
 "nbformat": 4,
 "nbformat_minor": 5
}
