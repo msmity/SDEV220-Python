{
 "cells": [
  {
   "cell_type": "markdown",
   "id": "3b9ffb4c-bfbc-4c6d-ae53-af3953319739",
   "metadata": {},
   "source": [
    "11.1"
   ]
  },
  {
   "cell_type": "code",
   "execution_count": 4,
   "id": "565ad373-f2d0-4545-bfb3-1707b6517eb6",
   "metadata": {},
   "outputs": [],
   "source": [
    "import zoo"
   ]
  },
  {
   "cell_type": "code",
   "execution_count": 5,
   "id": "4af2ae9b-832c-4697-b39e-9373805e1b25",
   "metadata": {},
   "outputs": [
    {
     "name": "stdout",
     "output_type": "stream",
     "text": [
      "Open 9-5 daily\n"
     ]
    }
   ],
   "source": [
    "hours_open = zoo.hours()"
   ]
  },
  {
   "cell_type": "markdown",
   "id": "43e985be-c2b9-4189-98b9-dcdfaa53950d",
   "metadata": {},
   "source": [
    "11.2"
   ]
  },
  {
   "cell_type": "code",
   "execution_count": 6,
   "id": "2a917e65-7fdb-49a4-b224-f8c7768cfe87",
   "metadata": {},
   "outputs": [
    {
     "name": "stdout",
     "output_type": "stream",
     "text": [
      "Open 9-5 daily\n"
     ]
    }
   ],
   "source": [
    "import zoo as menagerie\n",
    "hours_open = menagerie.hours()"
   ]
  },
  {
   "cell_type": "markdown",
   "id": "1db0b09d-f0a5-417a-b19c-2233351c8287",
   "metadata": {},
   "source": [
    "16.8"
   ]
  },
  {
   "cell_type": "code",
   "execution_count": null,
   "id": "47d3ec58-3c9a-4f46-9618-c9f24a17a091",
   "metadata": {},
   "outputs": [],
   "source": []
  }
 ],
 "metadata": {
  "kernelspec": {
   "display_name": "Python [conda env:base] *",
   "language": "python",
   "name": "conda-base-py"
  },
  "language_info": {
   "codemirror_mode": {
    "name": "ipython",
    "version": 3
   },
   "file_extension": ".py",
   "mimetype": "text/x-python",
   "name": "python",
   "nbconvert_exporter": "python",
   "pygments_lexer": "ipython3",
   "version": "3.12.7"
  }
 },
 "nbformat": 4,
 "nbformat_minor": 5
}
